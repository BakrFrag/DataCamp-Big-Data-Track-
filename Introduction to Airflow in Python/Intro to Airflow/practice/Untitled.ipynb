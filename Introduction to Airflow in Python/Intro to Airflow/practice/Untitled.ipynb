{
 "cells": [
  {
   "cell_type": "code",
   "execution_count": 1,
   "metadata": {},
   "outputs": [],
   "source": [
    "# Define Simple Dag With Python Code"
   ]
  },
  {
   "cell_type": "code",
   "execution_count": 2,
   "metadata": {},
   "outputs": [],
   "source": [
    "from airflow.models import DAG\n",
    "from datetime import datetime"
   ]
  },
  {
   "cell_type": "code",
   "execution_count": 4,
   "metadata": {},
   "outputs": [],
   "source": [
    "default_args={\n",
    "    \"owner\":\"BK\",\n",
    "    \"email\":\"bakr.frag\",\n",
    "    \"start_date\":datetime(2021,2,10)\n",
    "}"
   ]
  },
  {
   "cell_type": "code",
   "execution_count": 5,
   "metadata": {},
   "outputs": [],
   "source": [
    "etl_dag=DAG(\"simple_dag\",default_args=default_args)"
   ]
  },
  {
   "cell_type": "code",
   "execution_count": 7,
   "metadata": {},
   "outputs": [
    {
     "name": "stdout",
     "output_type": "stream",
     "text": [
      "usage: airflow [-h] GROUP_OR_COMMAND ...\r\n",
      "\r\n",
      "positional arguments:\r\n",
      "  GROUP_OR_COMMAND\r\n",
      "\r\n",
      "    Groups:\r\n",
      "      celery         Celery components\r\n",
      "      config         View configuration\r\n",
      "      connections    Manage connections\r\n",
      "      dags           Manage DAGs\r\n",
      "      db             Database operations\r\n",
      "      kubernetes     Tools to help run the KubernetesExecutor\r\n",
      "      pools          Manage pools\r\n",
      "      providers      Display providers\r\n",
      "      roles          Manage roles\r\n",
      "      tasks          Manage tasks\r\n",
      "      users          Manage users\r\n",
      "      variables      Manage variables\r\n",
      "\r\n",
      "    Commands:\r\n",
      "      cheat-sheet    Display cheat sheet\r\n",
      "      info           Show information about current Airflow and environment\r\n",
      "      kerberos       Start a kerberos ticket renewer\r\n",
      "      plugins        Dump information about loaded plugins\r\n",
      "      rotate-fernet-key\r\n",
      "                     Rotate encrypted connection credentials and variables\r\n",
      "      scheduler      Start a scheduler instance\r\n",
      "      sync-perm      Update permissions for existing roles and DAGs\r\n",
      "      version        Show the version\r\n",
      "      webserver      Start a Airflow webserver instance\r\n",
      "\r\n",
      "optional arguments:\r\n",
      "  -h, --help         show this help message and exit\r\n",
      "\r\n",
      "airflow command error: argument GROUP_OR_COMMAND: `airflow run` command, has been removed, please use `airflow tasks run`, see help above.\r\n"
     ]
    }
   ],
   "source": [
    "!airflow run etl_dag"
   ]
  },
  {
   "cell_type": "code",
   "execution_count": null,
   "metadata": {},
   "outputs": [],
   "source": []
  }
 ],
 "metadata": {
  "kernelspec": {
   "display_name": "Python 3",
   "language": "python",
   "name": "python3"
  },
  "language_info": {
   "codemirror_mode": {
    "name": "ipython",
    "version": 3
   },
   "file_extension": ".py",
   "mimetype": "text/x-python",
   "name": "python",
   "nbconvert_exporter": "python",
   "pygments_lexer": "ipython3",
   "version": "3.8.5"
  }
 },
 "nbformat": 4,
 "nbformat_minor": 4
}
