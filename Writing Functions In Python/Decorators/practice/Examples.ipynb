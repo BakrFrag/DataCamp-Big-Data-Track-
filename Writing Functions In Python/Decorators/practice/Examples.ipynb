{
 "cells": [
  {
   "cell_type": "code",
   "execution_count": 16,
   "metadata": {},
   "outputs": [],
   "source": [
    "import logging;\n",
    "import datetime;"
   ]
  },
  {
   "cell_type": "code",
   "execution_count": 20,
   "metadata": {},
   "outputs": [],
   "source": [
    "def logFuncInfo(func):\n",
    "    logging.basicConfig(filename=\"Excuation.log\",level=logging.INFO);\n",
    "    now=datetime.datetime.now();\n",
    "    exeTime=now.strftime(\"%Y:%M:%d-%H:%M:%S\");\n",
    "    print(exeTime)\n",
    "    def wrapper(*args,**kwargs):\n",
    "        logging.info(\"function {} with args {} and kwargs {} called at {}\".format(func.__name__,args,kwargs,exeTime));\n",
    "        return func(*args,**kwargs);\n",
    "    return wrapper;\n",
    "        \n",
    "        "
   ]
  },
  {
   "cell_type": "code",
   "execution_count": 21,
   "metadata": {
    "scrolled": true
   },
   "outputs": [
    {
     "name": "stdout",
     "output_type": "stream",
     "text": [
      "2021:53:13-17:53:52\n"
     ]
    }
   ],
   "source": [
    "@logFuncInfo\n",
    "def display(name,age):\n",
    "    print(\"Name:{} \\nAge:{}\".format(name,age));"
   ]
  },
  {
   "cell_type": "code",
   "execution_count": 22,
   "metadata": {},
   "outputs": [
    {
     "name": "stdout",
     "output_type": "stream",
     "text": [
      "Name:Bakr Frag \n",
      "Age:25\n"
     ]
    }
   ],
   "source": [
    "display(\"Bakr Frag\",25)"
   ]
  },
  {
   "cell_type": "code",
   "execution_count": 51,
   "metadata": {},
   "outputs": [],
   "source": [
    "class LogFunction(object):\n",
    "    logging.basicConfig(filename=\"ClassDecorator.log\",level=logging.INFO);\n",
    "    def __init__(self,function):\n",
    "        self.func=function;\n",
    "        self.exeTime=datetime.datetime.now().strftime(\"%Y:%M:%d-%H:%M:%S\");\n",
    "    def __call__(self,*args,**kwargs):\n",
    "        logging.info(f\"function {self.func.__name__} with args {args} kwargs {kwargs} executed at time {self.exeTime}\")\n",
    "        return self.func(*args,**kwargs);"
   ]
  },
  {
   "cell_type": "code",
   "execution_count": 52,
   "metadata": {},
   "outputs": [],
   "source": [
    "@LogFunction\n",
    "def check(x=2):\n",
    "    if x%2==0:\n",
    "        print(\"positive\");\n",
    "    else:\n",
    "         print(\"negative\")"
   ]
  },
  {
   "cell_type": "code",
   "execution_count": 53,
   "metadata": {},
   "outputs": [
    {
     "name": "stdout",
     "output_type": "stream",
     "text": [
      "positive\n"
     ]
    }
   ],
   "source": [
    "check(500)"
   ]
  },
  {
   "cell_type": "code",
   "execution_count": 57,
   "metadata": {},
   "outputs": [],
   "source": [
    "import time;\n",
    "class calculateTime(object):\n",
    "    def __init__(self,func):\n",
    "        self.func=func;\n",
    "        self.now=time.time();\n",
    "    def __call__(self,*args,**kwargs):\n",
    "        result=self.func(*args,**kwargs);\n",
    "        exe=time.time()-self.now;\n",
    "        print(exe);\n",
    "        return result;"
   ]
  },
  {
   "cell_type": "code",
   "execution_count": 58,
   "metadata": {},
   "outputs": [],
   "source": [
    "@calculateTime\n",
    "def check(x=2):\n",
    "    if x%2==0:\n",
    "        print(\"positive\");\n",
    "    else:\n",
    "         print(\"negative\")\n",
    "    "
   ]
  },
  {
   "cell_type": "code",
   "execution_count": 59,
   "metadata": {
    "scrolled": true
   },
   "outputs": [
    {
     "name": "stdout",
     "output_type": "stream",
     "text": [
      "negative\n",
      "0.6212832927703857\n"
     ]
    }
   ],
   "source": [
    "check(25)"
   ]
  },
  {
   "cell_type": "code",
   "execution_count": 60,
   "metadata": {},
   "outputs": [],
   "source": [
    "c=check;"
   ]
  },
  {
   "cell_type": "code",
   "execution_count": 61,
   "metadata": {},
   "outputs": [
    {
     "data": {
      "text/plain": [
       "['__call__',\n",
       " '__class__',\n",
       " '__delattr__',\n",
       " '__dict__',\n",
       " '__dir__',\n",
       " '__doc__',\n",
       " '__eq__',\n",
       " '__format__',\n",
       " '__ge__',\n",
       " '__getattribute__',\n",
       " '__gt__',\n",
       " '__hash__',\n",
       " '__init__',\n",
       " '__init_subclass__',\n",
       " '__le__',\n",
       " '__lt__',\n",
       " '__module__',\n",
       " '__ne__',\n",
       " '__new__',\n",
       " '__reduce__',\n",
       " '__reduce_ex__',\n",
       " '__repr__',\n",
       " '__setattr__',\n",
       " '__sizeof__',\n",
       " '__str__',\n",
       " '__subclasshook__',\n",
       " '__weakref__',\n",
       " 'func',\n",
       " 'now']"
      ]
     },
     "execution_count": 61,
     "metadata": {},
     "output_type": "execute_result"
    }
   ],
   "source": [
    "dir(c)"
   ]
  },
  {
   "cell_type": "code",
   "execution_count": 62,
   "metadata": {},
   "outputs": [
    {
     "data": {
      "text/plain": [
       "<function __main__.check(x=2)>"
      ]
     },
     "execution_count": 62,
     "metadata": {},
     "output_type": "execute_result"
    }
   ],
   "source": [
    "c.func"
   ]
  },
  {
   "cell_type": "code",
   "execution_count": 63,
   "metadata": {},
   "outputs": [
    {
     "data": {
      "text/plain": [
       "1610554472.5905373"
      ]
     },
     "execution_count": 63,
     "metadata": {},
     "output_type": "execute_result"
    }
   ],
   "source": [
    "c.now"
   ]
  },
  {
   "cell_type": "code",
   "execution_count": 64,
   "metadata": {},
   "outputs": [
    {
     "data": {
      "text/plain": [
       "'check'"
      ]
     },
     "execution_count": 64,
     "metadata": {},
     "output_type": "execute_result"
    }
   ],
   "source": [
    "c.func.__name__"
   ]
  },
  {
   "cell_type": "code",
   "execution_count": 66,
   "metadata": {},
   "outputs": [
    {
     "data": {
      "text/plain": [
       "<method-wrapper '__str__' of function object at 0x7f153b935280>"
      ]
     },
     "execution_count": 66,
     "metadata": {},
     "output_type": "execute_result"
    }
   ],
   "source": [
    "c.func.__str__"
   ]
  },
  {
   "cell_type": "markdown",
   "metadata": {},
   "source": [
    "### Multi Decorators"
   ]
  },
  {
   "cell_type": "code",
   "execution_count": 69,
   "metadata": {},
   "outputs": [],
   "source": [
    "from functools import wraps;\n",
    "def logFuncInfo(func):\n",
    "    logging.basicConfig(filename=\"multiDecorators.log\",level=logging.INFO);\n",
    "    now=datetime.datetime.now();\n",
    "    exeTime=now.strftime(\"%Y:%M:%d-%H:%M:%S\");\n",
    "    @wraps(func)\n",
    "    def wrapper(*args,**kwargs):\n",
    "        logging.info(\"function {} with args {} and kwargs {} called at {}\".format(func.__name__,args,kwargs,exeTime));\n",
    "        return func(*args,**kwargs);\n",
    "    return wrapper;\n",
    "        "
   ]
  },
  {
   "cell_type": "code",
   "execution_count": 70,
   "metadata": {},
   "outputs": [],
   "source": [
    "def calTime(func):\n",
    "    now=time.time();\n",
    "    @wraps(func)\n",
    "    def wrapper(*args,**kwargs):\n",
    "        result=func(*args,**kwargs);\n",
    "        exe=time.time()-now;\n",
    "        print(f\"{func.__name__} execuate within {exe}\");\n",
    "        return result;\n",
    "    return wrapper;"
   ]
  },
  {
   "cell_type": "code",
   "execution_count": 71,
   "metadata": {},
   "outputs": [],
   "source": [
    "@logFuncInfo\n",
    "@calTime\n",
    "def say_hello(name=\"Bakr Frag\"):\n",
    "    print(f\"hello {name}\")"
   ]
  },
  {
   "cell_type": "code",
   "execution_count": 72,
   "metadata": {},
   "outputs": [
    {
     "name": "stdout",
     "output_type": "stream",
     "text": [
      "hello DEVELOPER\n",
      "say_hello execuate within 19.190008878707886\n"
     ]
    }
   ],
   "source": [
    "say_hello(\"DEVELOPER\")"
   ]
  },
  {
   "cell_type": "code",
   "execution_count": null,
   "metadata": {},
   "outputs": [],
   "source": []
  }
 ],
 "metadata": {
  "kernelspec": {
   "display_name": "Python 3",
   "language": "python",
   "name": "python3"
  },
  "language_info": {
   "codemirror_mode": {
    "name": "ipython",
    "version": 3
   },
   "file_extension": ".py",
   "mimetype": "text/x-python",
   "name": "python",
   "nbconvert_exporter": "python",
   "pygments_lexer": "ipython3",
   "version": "3.8.5"
  }
 },
 "nbformat": 4,
 "nbformat_minor": 4
}
