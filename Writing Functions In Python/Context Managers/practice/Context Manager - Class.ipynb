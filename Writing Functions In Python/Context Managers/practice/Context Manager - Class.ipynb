{
 "cells": [
  {
   "cell_type": "code",
   "execution_count": 13,
   "metadata": {},
   "outputs": [],
   "source": [
    "class Init_File():\n",
    "    def __init__(self,filename,mode):\n",
    "        self.file=filename;\n",
    "        self.mode=mode;\n",
    "        print(\"file attributes inited\")\n",
    "    def __enter__(self):\n",
    "        print(\"inited for enter\")\n",
    "        self.fileobj=open(self.file,self.mode);\n",
    "        print(\"file object returned\")\n",
    "        return self.fileobj;\n",
    "    def __exit__(self,exc_type,exc_val,traceback):\n",
    "        print(\"file closed \")\n",
    "        self.fileobj.close();"
   ]
  },
  {
   "cell_type": "code",
   "execution_count": 14,
   "metadata": {},
   "outputs": [
    {
     "name": "stdout",
     "output_type": "stream",
     "text": [
      "file attributes inited\n",
      "inited for enter\n",
      "file object returned\n",
      "file closed \n",
      "True\n"
     ]
    }
   ],
   "source": [
    "with Init_File(\"check.txt\",\"w\") as obj:\n",
    "    obj.write(\"Class Context Managers Works Fine\");\n",
    "print(obj.closed)"
   ]
  },
  {
   "cell_type": "code",
   "execution_count": null,
   "metadata": {},
   "outputs": [],
   "source": []
  }
 ],
 "metadata": {
  "kernelspec": {
   "display_name": "Python 3",
   "language": "python",
   "name": "python3"
  },
  "language_info": {
   "codemirror_mode": {
    "name": "ipython",
    "version": 3
   },
   "file_extension": ".py",
   "mimetype": "text/x-python",
   "name": "python",
   "nbconvert_exporter": "python",
   "pygments_lexer": "ipython3",
   "version": "3.8.5"
  }
 },
 "nbformat": 4,
 "nbformat_minor": 4
}
